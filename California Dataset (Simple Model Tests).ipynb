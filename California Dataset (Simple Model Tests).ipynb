{
 "cells": [
  {
   "cell_type": "markdown",
   "id": "b22b4140",
   "metadata": {},
   "source": [
    "# California Housing Dataset: A series of simple example models"
   ]
  },
  {
   "cell_type": "markdown",
   "id": "51953ab6",
   "metadata": {},
   "source": [
    "### Source: https://medium.com/@polanitzer/machine-learning-for-california-housing-e979ec5f5971"
   ]
  },
  {
   "cell_type": "markdown",
   "id": "3a3bdca1",
   "metadata": {},
   "source": [
    "## Imports and Setup"
   ]
  },
  {
   "cell_type": "code",
   "execution_count": 82,
   "id": "038ff3ae",
   "metadata": {},
   "outputs": [
    {
     "name": "stdout",
     "output_type": "stream",
     "text": [
      "Index(['MedInc', 'HouseAge', 'AveRooms', 'AveBedrms', 'Population', 'AveOccup',\n",
      "       'Latitude', 'Longitude', 'Target'],\n",
      "      dtype='object')\n"
     ]
    }
   ],
   "source": [
    "# Imported libraries\n",
    "import pandas as pd\n",
    "import numpy as np\n",
    "import seaborn as sb    \n",
    "import matplotlib.pyplot as plt\n",
    "from sklearn.model_selection import train_test_split\n",
    "from sklearn.neighbors import KNeighborsRegressor\n",
    "from sklearn.linear_model import LinearRegression\n",
    "from sklearn.tree import DecisionTreeRegressor\n",
    "from sklearn.ensemble import RandomForestRegressor\n",
    "from sklearn.ensemble import GradientBoostingRegressor\n",
    "from sklearn.svm import SVR\n",
    "from sklearn.preprocessing import MinMaxScaler\n",
    "from sklearn.neural_network import MLPRegressor\n",
    "from sklearn.preprocessing import StandardScaler\n",
    "# Imported California Housing dataset from Scikit Learn library\n",
    "from sklearn.datasets import fetch_california_housing\n",
    "# Initialize Dataset to a variable (Dataset in numpy form)\n",
    "housing_data = fetch_california_housing()\n",
    "descr = housing_data['DESCR']\n",
    "feature_names = housing_data['feature_names']\n",
    "data = housing_data['data']\n",
    "target = housing_data['target']\n",
    "df1 = pd.DataFrame(data=data)\n",
    "df1.rename(columns={0: feature_names[0], 1: feature_names[1], 2: feature_names[2], 3: feature_names[3],\n",
    " 4: feature_names[4], 5: feature_names[5], 6: feature_names[6], 7: feature_names[7]}, inplace=True)\n",
    "df2 = pd.DataFrame(data=target)\n",
    "df2.rename(columns={0: 'Target'}, inplace=True)\n",
    "housing = pd.concat([df1, df2], axis=1)\n",
    "print(housing.columns)"
   ]
  },
  {
   "cell_type": "markdown",
   "id": "d460b368",
   "metadata": {},
   "source": []
  },
  {
   "cell_type": "markdown",
   "id": "457e1a95",
   "metadata": {},
   "source": [
    "## Brief overview of Data"
   ]
  },
  {
   "cell_type": "code",
   "execution_count": 44,
   "id": "06eed685",
   "metadata": {},
   "outputs": [
    {
     "data": {
      "text/html": [
       "<div>\n",
       "<style scoped>\n",
       "    .dataframe tbody tr th:only-of-type {\n",
       "        vertical-align: middle;\n",
       "    }\n",
       "\n",
       "    .dataframe tbody tr th {\n",
       "        vertical-align: top;\n",
       "    }\n",
       "\n",
       "    .dataframe thead th {\n",
       "        text-align: right;\n",
       "    }\n",
       "</style>\n",
       "<table border=\"1\" class=\"dataframe\">\n",
       "  <thead>\n",
       "    <tr style=\"text-align: right;\">\n",
       "      <th></th>\n",
       "      <th>MedInc</th>\n",
       "      <th>HouseAge</th>\n",
       "      <th>AveRooms</th>\n",
       "      <th>AveBedrms</th>\n",
       "      <th>Population</th>\n",
       "      <th>AveOccup</th>\n",
       "      <th>Latitude</th>\n",
       "      <th>Longitude</th>\n",
       "      <th>Target</th>\n",
       "    </tr>\n",
       "  </thead>\n",
       "  <tbody>\n",
       "    <tr>\n",
       "      <th>0</th>\n",
       "      <td>8.3252</td>\n",
       "      <td>41.0</td>\n",
       "      <td>6.984127</td>\n",
       "      <td>1.023810</td>\n",
       "      <td>322.0</td>\n",
       "      <td>2.555556</td>\n",
       "      <td>37.88</td>\n",
       "      <td>-122.23</td>\n",
       "      <td>4.526</td>\n",
       "    </tr>\n",
       "    <tr>\n",
       "      <th>1</th>\n",
       "      <td>8.3014</td>\n",
       "      <td>21.0</td>\n",
       "      <td>6.238137</td>\n",
       "      <td>0.971880</td>\n",
       "      <td>2401.0</td>\n",
       "      <td>2.109842</td>\n",
       "      <td>37.86</td>\n",
       "      <td>-122.22</td>\n",
       "      <td>3.585</td>\n",
       "    </tr>\n",
       "    <tr>\n",
       "      <th>2</th>\n",
       "      <td>7.2574</td>\n",
       "      <td>52.0</td>\n",
       "      <td>8.288136</td>\n",
       "      <td>1.073446</td>\n",
       "      <td>496.0</td>\n",
       "      <td>2.802260</td>\n",
       "      <td>37.85</td>\n",
       "      <td>-122.24</td>\n",
       "      <td>3.521</td>\n",
       "    </tr>\n",
       "    <tr>\n",
       "      <th>3</th>\n",
       "      <td>5.6431</td>\n",
       "      <td>52.0</td>\n",
       "      <td>5.817352</td>\n",
       "      <td>1.073059</td>\n",
       "      <td>558.0</td>\n",
       "      <td>2.547945</td>\n",
       "      <td>37.85</td>\n",
       "      <td>-122.25</td>\n",
       "      <td>3.413</td>\n",
       "    </tr>\n",
       "    <tr>\n",
       "      <th>4</th>\n",
       "      <td>3.8462</td>\n",
       "      <td>52.0</td>\n",
       "      <td>6.281853</td>\n",
       "      <td>1.081081</td>\n",
       "      <td>565.0</td>\n",
       "      <td>2.181467</td>\n",
       "      <td>37.85</td>\n",
       "      <td>-122.25</td>\n",
       "      <td>3.422</td>\n",
       "    </tr>\n",
       "  </tbody>\n",
       "</table>\n",
       "</div>"
      ],
      "text/plain": [
       "   MedInc  HouseAge  AveRooms  AveBedrms  Population  AveOccup  Latitude  \\\n",
       "0  8.3252      41.0  6.984127   1.023810       322.0  2.555556     37.88   \n",
       "1  8.3014      21.0  6.238137   0.971880      2401.0  2.109842     37.86   \n",
       "2  7.2574      52.0  8.288136   1.073446       496.0  2.802260     37.85   \n",
       "3  5.6431      52.0  5.817352   1.073059       558.0  2.547945     37.85   \n",
       "4  3.8462      52.0  6.281853   1.081081       565.0  2.181467     37.85   \n",
       "\n",
       "   Longitude  Target  \n",
       "0    -122.23   4.526  \n",
       "1    -122.22   3.585  \n",
       "2    -122.24   3.521  \n",
       "3    -122.25   3.413  \n",
       "4    -122.25   3.422  "
      ]
     },
     "execution_count": 44,
     "metadata": {},
     "output_type": "execute_result"
    }
   ],
   "source": [
    "housing.head()"
   ]
  },
  {
   "cell_type": "code",
   "execution_count": 45,
   "id": "2905bd85",
   "metadata": {},
   "outputs": [
    {
     "data": {
      "text/html": [
       "<div>\n",
       "<style scoped>\n",
       "    .dataframe tbody tr th:only-of-type {\n",
       "        vertical-align: middle;\n",
       "    }\n",
       "\n",
       "    .dataframe tbody tr th {\n",
       "        vertical-align: top;\n",
       "    }\n",
       "\n",
       "    .dataframe thead th {\n",
       "        text-align: right;\n",
       "    }\n",
       "</style>\n",
       "<table border=\"1\" class=\"dataframe\">\n",
       "  <thead>\n",
       "    <tr style=\"text-align: right;\">\n",
       "      <th></th>\n",
       "      <th>MedInc</th>\n",
       "      <th>HouseAge</th>\n",
       "      <th>AveRooms</th>\n",
       "      <th>AveBedrms</th>\n",
       "      <th>Population</th>\n",
       "      <th>AveOccup</th>\n",
       "      <th>Latitude</th>\n",
       "      <th>Longitude</th>\n",
       "      <th>Target</th>\n",
       "    </tr>\n",
       "  </thead>\n",
       "  <tbody>\n",
       "    <tr>\n",
       "      <th>count</th>\n",
       "      <td>20640.000000</td>\n",
       "      <td>20640.000000</td>\n",
       "      <td>20640.000000</td>\n",
       "      <td>20640.000000</td>\n",
       "      <td>20640.000000</td>\n",
       "      <td>20640.000000</td>\n",
       "      <td>20640.000000</td>\n",
       "      <td>20640.000000</td>\n",
       "      <td>20640.000000</td>\n",
       "    </tr>\n",
       "    <tr>\n",
       "      <th>mean</th>\n",
       "      <td>3.870671</td>\n",
       "      <td>28.639486</td>\n",
       "      <td>5.429000</td>\n",
       "      <td>1.096675</td>\n",
       "      <td>1425.476744</td>\n",
       "      <td>3.070655</td>\n",
       "      <td>35.631861</td>\n",
       "      <td>-119.569704</td>\n",
       "      <td>2.068558</td>\n",
       "    </tr>\n",
       "    <tr>\n",
       "      <th>std</th>\n",
       "      <td>1.899822</td>\n",
       "      <td>12.585558</td>\n",
       "      <td>2.474173</td>\n",
       "      <td>0.473911</td>\n",
       "      <td>1132.462122</td>\n",
       "      <td>10.386050</td>\n",
       "      <td>2.135952</td>\n",
       "      <td>2.003532</td>\n",
       "      <td>1.153956</td>\n",
       "    </tr>\n",
       "    <tr>\n",
       "      <th>min</th>\n",
       "      <td>0.499900</td>\n",
       "      <td>1.000000</td>\n",
       "      <td>0.846154</td>\n",
       "      <td>0.333333</td>\n",
       "      <td>3.000000</td>\n",
       "      <td>0.692308</td>\n",
       "      <td>32.540000</td>\n",
       "      <td>-124.350000</td>\n",
       "      <td>0.149990</td>\n",
       "    </tr>\n",
       "    <tr>\n",
       "      <th>25%</th>\n",
       "      <td>2.563400</td>\n",
       "      <td>18.000000</td>\n",
       "      <td>4.440716</td>\n",
       "      <td>1.006079</td>\n",
       "      <td>787.000000</td>\n",
       "      <td>2.429741</td>\n",
       "      <td>33.930000</td>\n",
       "      <td>-121.800000</td>\n",
       "      <td>1.196000</td>\n",
       "    </tr>\n",
       "    <tr>\n",
       "      <th>50%</th>\n",
       "      <td>3.534800</td>\n",
       "      <td>29.000000</td>\n",
       "      <td>5.229129</td>\n",
       "      <td>1.048780</td>\n",
       "      <td>1166.000000</td>\n",
       "      <td>2.818116</td>\n",
       "      <td>34.260000</td>\n",
       "      <td>-118.490000</td>\n",
       "      <td>1.797000</td>\n",
       "    </tr>\n",
       "    <tr>\n",
       "      <th>75%</th>\n",
       "      <td>4.743250</td>\n",
       "      <td>37.000000</td>\n",
       "      <td>6.052381</td>\n",
       "      <td>1.099526</td>\n",
       "      <td>1725.000000</td>\n",
       "      <td>3.282261</td>\n",
       "      <td>37.710000</td>\n",
       "      <td>-118.010000</td>\n",
       "      <td>2.647250</td>\n",
       "    </tr>\n",
       "    <tr>\n",
       "      <th>max</th>\n",
       "      <td>15.000100</td>\n",
       "      <td>52.000000</td>\n",
       "      <td>141.909091</td>\n",
       "      <td>34.066667</td>\n",
       "      <td>35682.000000</td>\n",
       "      <td>1243.333333</td>\n",
       "      <td>41.950000</td>\n",
       "      <td>-114.310000</td>\n",
       "      <td>5.000010</td>\n",
       "    </tr>\n",
       "  </tbody>\n",
       "</table>\n",
       "</div>"
      ],
      "text/plain": [
       "             MedInc      HouseAge      AveRooms     AveBedrms    Population  \\\n",
       "count  20640.000000  20640.000000  20640.000000  20640.000000  20640.000000   \n",
       "mean       3.870671     28.639486      5.429000      1.096675   1425.476744   \n",
       "std        1.899822     12.585558      2.474173      0.473911   1132.462122   \n",
       "min        0.499900      1.000000      0.846154      0.333333      3.000000   \n",
       "25%        2.563400     18.000000      4.440716      1.006079    787.000000   \n",
       "50%        3.534800     29.000000      5.229129      1.048780   1166.000000   \n",
       "75%        4.743250     37.000000      6.052381      1.099526   1725.000000   \n",
       "max       15.000100     52.000000    141.909091     34.066667  35682.000000   \n",
       "\n",
       "           AveOccup      Latitude     Longitude        Target  \n",
       "count  20640.000000  20640.000000  20640.000000  20640.000000  \n",
       "mean       3.070655     35.631861   -119.569704      2.068558  \n",
       "std       10.386050      2.135952      2.003532      1.153956  \n",
       "min        0.692308     32.540000   -124.350000      0.149990  \n",
       "25%        2.429741     33.930000   -121.800000      1.196000  \n",
       "50%        2.818116     34.260000   -118.490000      1.797000  \n",
       "75%        3.282261     37.710000   -118.010000      2.647250  \n",
       "max     1243.333333     41.950000   -114.310000      5.000010  "
      ]
     },
     "execution_count": 45,
     "metadata": {},
     "output_type": "execute_result"
    }
   ],
   "source": [
    "housing.describe()"
   ]
  },
  {
   "cell_type": "code",
   "execution_count": 46,
   "id": "973bade4",
   "metadata": {},
   "outputs": [
    {
     "name": "stdout",
     "output_type": "stream",
     "text": [
      "dimension of housing data: (20640, 9)\n"
     ]
    }
   ],
   "source": [
    "print(\"dimension of housing data: {}\".format(housing.shape))"
   ]
  },
  {
   "cell_type": "code",
   "execution_count": 47,
   "id": "c14580ed",
   "metadata": {},
   "outputs": [
    {
     "name": "stdout",
     "output_type": "stream",
     "text": [
      "<class 'pandas.core.frame.DataFrame'>\n",
      "RangeIndex: 20640 entries, 0 to 20639\n",
      "Data columns (total 9 columns):\n",
      " #   Column      Non-Null Count  Dtype  \n",
      "---  ------      --------------  -----  \n",
      " 0   MedInc      20640 non-null  float64\n",
      " 1   HouseAge    20640 non-null  float64\n",
      " 2   AveRooms    20640 non-null  float64\n",
      " 3   AveBedrms   20640 non-null  float64\n",
      " 4   Population  20640 non-null  float64\n",
      " 5   AveOccup    20640 non-null  float64\n",
      " 6   Latitude    20640 non-null  float64\n",
      " 7   Longitude   20640 non-null  float64\n",
      " 8   Target      20640 non-null  float64\n",
      "dtypes: float64(9)\n",
      "memory usage: 1.4 MB\n"
     ]
    }
   ],
   "source": [
    "housing.info()"
   ]
  },
  {
   "cell_type": "markdown",
   "id": "102e9615",
   "metadata": {},
   "source": [
    "## k-Nearest Neighbors Regressor"
   ]
  },
  {
   "cell_type": "code",
   "execution_count": 48,
   "id": "95e8c5d5",
   "metadata": {},
   "outputs": [
    {
     "data": {
      "image/png": "[encoded data removed]",
      "text/plain": [
       "<Figure size 640x480 with 1 Axes>"
      ]
     },
     "metadata": {},
     "output_type": "display_data"
    }
   ],
   "source": [
    "# Using from sklearn.model_selection import train_test_split and from sklearn.neighbors import KNeighborsRegressor\n",
    "X_train, X_test, y_train, y_test = train_test_split(housing.loc[:, housing.columns != 'Target'], housing['Target'], random_state=66)\n",
    "training_score = []\n",
    "test_score = []\n",
    "# try n_neighbors from 1 to 10\n",
    "neighbors_settings = range(1, 11)\n",
    "for n_neighbors in neighbors_settings:\n",
    " # build the model\n",
    " knn = KNeighborsRegressor(n_neighbors=n_neighbors)\n",
    " knn.fit(X_train, y_train)\n",
    " # record training set score\n",
    " training_score.append(knn.score(X_train, y_train))\n",
    " # record test set score\n",
    " test_score.append(knn.score(X_test, y_test))\n",
    "plt.plot(neighbors_settings, training_score, label=\"training score\")\n",
    "plt.plot(neighbors_settings, test_score, label=\"test score\")\n",
    "plt.ylabel(\"R²\")\n",
    "plt.xlabel(\"n_neighbors\")\n",
    "plt.legend()\n",
    "plt.savefig('knn_compare_model')"
   ]
  },
  {
   "cell_type": "markdown",
   "id": "e5e1c63f",
   "metadata": {},
   "source": [
    "### This graph suggests that as we use more nearest neighbors, the r^2 increases resulting in less accuracy, and it also shows that the best amount of nearest neighbors to use is 10 before it gets to complex."
   ]
  },
  {
   "cell_type": "code",
   "execution_count": 49,
   "id": "a369a232",
   "metadata": {},
   "outputs": [
    {
     "name": "stdout",
     "output_type": "stream",
     "text": [
      "R² of KNN Regressor on training set: 0.316\n",
      "R² of KNN Regressor on test set: 0.152\n"
     ]
    }
   ],
   "source": [
    "knn = KNeighborsRegressor(n_neighbors=10)\n",
    "knn.fit(X_train, y_train)\n",
    "k1 = knn.score(X_train, y_train)\n",
    "k2 = knn.score(X_test, y_test)\n",
    "print(\"R² of KNN Regressor on training set: {:.3f}\".format(k1))\n",
    "print(\"R² of KNN Regressor on test set: {:.3f}\".format(k2))"
   ]
  },
  {
   "cell_type": "markdown",
   "id": "50d902ee",
   "metadata": {},
   "source": [
    "## Linear Regression"
   ]
  },
  {
   "cell_type": "code",
   "execution_count": 50,
   "id": "84777ba9",
   "metadata": {},
   "outputs": [
    {
     "name": "stdout",
     "output_type": "stream",
     "text": [
      "R² of Linear Regression on training set: 0.603\n",
      "R² of Linear Regression on test set: 0.609\n"
     ]
    }
   ],
   "source": [
    "# Using from sklearn.linear_model import LinearRegression\n",
    "linreg = LinearRegression()\n",
    "linreg.fit(X_train, y_train)\n",
    "l1 = linreg.score(X_train, y_train)\n",
    "l2 = linreg.score(X_test, y_test)\n",
    "print(\"R² of Linear Regression on training set: {:.3f}\".format(l1))\n",
    "print(\"R² of Linear Regression on test set: {:.3f}\".format(l2))"
   ]
  },
  {
   "cell_type": "markdown",
   "id": "c5e9f7bc",
   "metadata": {},
   "source": [
    "## Decision Tree Regressor"
   ]
  },
  {
   "cell_type": "code",
   "execution_count": 51,
   "id": "4ba6941d",
   "metadata": {},
   "outputs": [
    {
     "name": "stdout",
     "output_type": "stream",
     "text": [
      "R² of Linear Regression on training set: 1.000\n",
      "R² of Linear Regression on test set: 0.611\n"
     ]
    }
   ],
   "source": [
    "# Using from sklearn.tree import DecisionTreeRegressor\n",
    "housing_features = [x for i,x in enumerate(housing.columns) if i!=8]\n",
    "\n",
    "tree = DecisionTreeRegressor(random_state=0)\n",
    "tree.fit(X_train, y_train)\n",
    "\n",
    "t1 = tree.score(X_train, y_train)\n",
    "t2 = tree.score(X_test, y_test)\n",
    "\n",
    "print(\"R² of Linear Regression on training set: {:.3f}\".format(t1))\n",
    "print(\"R² of Linear Regression on test set: {:.3f}\".format(t2))"
   ]
  },
  {
   "cell_type": "code",
   "execution_count": 53,
   "id": "05a1070e",
   "metadata": {},
   "outputs": [
    {
     "name": "stdout",
     "output_type": "stream",
     "text": [
      "R² of Decision Tree Regressor on training set: 0.706\n",
      "R² of Decision Tree Regressor on test set: 0.662\n"
     ]
    }
   ],
   "source": [
    "tree1 = DecisionTreeRegressor(max_depth=7, random_state=0)\n",
    "tree1.fit(X_train, y_train)\n",
    "t3 = tree1.score(X_train, y_train)\n",
    "t4 = tree1.score(X_test, y_test)\n",
    "print(\"R² of Decision Tree Regressor on training set: {:.3f}\".format(t3))\n",
    "print(\"R² of Decision Tree Regressor on test set: {:.3f}\".format(t4))\n"
   ]
  },
  {
   "cell_type": "markdown",
   "id": "a53bcfeb",
   "metadata": {},
   "source": [
    "## Feature Importance in Decision Tree Regressor\n"
   ]
  },
  {
   "cell_type": "code",
   "execution_count": 56,
   "id": "0f1d4b81",
   "metadata": {},
   "outputs": [
    {
     "name": "stdout",
     "output_type": "stream",
     "text": [
      "Feature importances:\n",
      "[0.68862457 0.04268309 0.02863728 0.00109839 0.00624022 0.13876369\n",
      " 0.05638354 0.03756921]\n"
     ]
    }
   ],
   "source": [
    "print(\"Feature importances:\\n{}\".format(tree1.feature_importances_))\n"
   ]
  },
  {
   "cell_type": "code",
   "execution_count": 122,
   "id": "dad9a383",
   "metadata": {},
   "outputs": [
    {
     "data": {
      "image/png": "[encoded data removed]",
      "text/plain": [
       "<Figure size 800x600 with 1 Axes>"
      ]
     },
     "metadata": {},
     "output_type": "display_data"
    }
   ],
   "source": [
    "def plot_feature_importances_housing(model):\n",
    " plt.figure(figsize=(8,6))\n",
    " n_features = 8\n",
    " plt.barh(range(n_features), model.feature_importances_, align='center')\n",
    " plt.yticks(np.arange(n_features), housing_features)\n",
    " plt.xlabel(\"Feature importance\")\n",
    " plt.ylabel(\"Feature\")\n",
    " plt.ylim(-1, n_features)\n",
    "plot_feature_importances_housing(tree1)\n",
    "plt.savefig('feature_importance')"
   ]
  },
  {
   "cell_type": "markdown",
   "id": "7c42eac4",
   "metadata": {},
   "source": [
    "## Random Forest Regressor\n"
   ]
  },
  {
   "cell_type": "code",
   "execution_count": 64,
   "id": "321bb871",
   "metadata": {},
   "outputs": [
    {
     "name": "stdout",
     "output_type": "stream",
     "text": [
      "R² of Random Forest Regressor on training set: 0.973\n",
      "R² of Random Forest Regressor on test set: 0.813\n"
     ]
    }
   ],
   "source": [
    "# Using from sklearn.ensemble import RandomForestRegressor\n",
    "rf = RandomForestRegressor(n_estimators=100, random_state=0)\n",
    "rf.fit(X_train, y_train)\n",
    "r1 = rf.score(X_train, y_train)\n",
    "r2 = rf.score(X_test, y_test)\n",
    "print(\"R² of Random Forest Regressor on training set: {:.3f}\".format(r1))\n",
    "print(\"R² of Random Forest Regressor on test set: {:.3f}\".format(r2))"
   ]
  },
  {
   "cell_type": "code",
   "execution_count": 66,
   "id": "7054a6a0",
   "metadata": {},
   "outputs": [
    {
     "name": "stdout",
     "output_type": "stream",
     "text": [
      "R² of Random Forest Regressor on training set: 0.762\n",
      "R² of Random Forest Regressor on test set: 0.733\n"
     ]
    }
   ],
   "source": [
    "rf1 = RandomForestRegressor(max_depth=7, n_estimators=100, random_state=42)\n",
    "rf1.fit(X_train, y_train)\n",
    "r3 = rf1.score(X_train, y_train)\n",
    "r4 = rf1.score(X_test, y_test)\n",
    "print(\"R² of Random Forest Regressor on training set: {:.3f}\".format(r3))\n",
    "print(\"R² of Random Forest Regressor on test set: {:.3f}\".format(r4))"
   ]
  },
  {
   "cell_type": "markdown",
   "id": "3e897573",
   "metadata": {},
   "source": [
    "## Feature importance in Random Forest Regressor\n"
   ]
  },
  {
   "cell_type": "code",
   "execution_count": 67,
   "id": "8dbc0629",
   "metadata": {},
   "outputs": [
    {
     "data": {
      "image/png": "[encoded data removed]",
      "text/plain": [
       "<Figure size 800x600 with 1 Axes>"
      ]
     },
     "metadata": {},
     "output_type": "display_data"
    }
   ],
   "source": [
    "plot_feature_importances_housing(rf)\n"
   ]
  },
  {
   "cell_type": "markdown",
   "id": "d6b97471",
   "metadata": {},
   "source": [
    "## Gradient Boosting Regressor\n"
   ]
  },
  {
   "cell_type": "code",
   "execution_count": 70,
   "id": "d7573ce8",
   "metadata": {},
   "outputs": [
    {
     "name": "stdout",
     "output_type": "stream",
     "text": [
      "R^2 of Gradient Boosting Regressor on training set: 0.808\n",
      "R^2 of Gradient Boosting Regressor on test set: 0.795\n"
     ]
    }
   ],
   "source": [
    "# Using from sklearn.ensemble import GradientBoostingRegressor\n",
    "gb = GradientBoostingRegressor(random_state=0)\n",
    "gb.fit(X_train, y_train)\n",
    "g1 = gb.score(X_train, y_train)\n",
    "g2 = gb.score(X_test, y_test)\n",
    "print(\"R^2 of Gradient Boosting Regressor on training set: {:.3f}\".format(g1))\n",
    "print(\"R^2 of Gradient Boosting Regressor on test set: {:.3f}\".format(g2))"
   ]
  },
  {
   "cell_type": "code",
   "execution_count": 71,
   "id": "2fccd9a1",
   "metadata": {},
   "outputs": [
    {
     "name": "stdout",
     "output_type": "stream",
     "text": [
      "R² of Gradient Boosting Regressor on training set: 0.842\n",
      "R² of Gradient Boosting Regressor on test set: 0.814\n"
     ]
    }
   ],
   "source": [
    "gb1 = GradientBoostingRegressor(random_state=0, max_depth=4)\n",
    "gb1.fit(X_train, y_train)\n",
    "g3 = gb1.score(X_train, y_train)\n",
    "g4 = gb1.score(X_test, y_test)\n",
    "print(\"R² of Gradient Boosting Regressor on training set: {:.3f}\".format(g3))\n",
    "print(\"R² of Gradient Boosting Regressor on test set: {:.3f}\".format(g4))"
   ]
  },
  {
   "cell_type": "code",
   "execution_count": 72,
   "id": "25249b43",
   "metadata": {},
   "outputs": [
    {
     "name": "stdout",
     "output_type": "stream",
     "text": [
      "R² of Gradient Boosting Regressor on training set: 0.823\n",
      "R² of Gradient Boosting Regressor on test set: 0.808\n"
     ]
    }
   ],
   "source": [
    "gb2 = GradientBoostingRegressor(random_state=0, learning_rate=0.15)\n",
    "gb2.fit(X_train, y_train)\n",
    "g5 = gb2.score(X_train, y_train)\n",
    "g6 = gb2.score(X_test, y_test)\n",
    "print(\"R² of Gradient Boosting Regressor on training set: {:.3f}\".format(g5))\n",
    "print(\"R² of Gradient Boosting Regressor on test set: {:.3f}\".format(g6))"
   ]
  },
  {
   "cell_type": "code",
   "execution_count": 73,
   "id": "6cff0b35",
   "metadata": {},
   "outputs": [
    {
     "data": {
      "image/png": "[encoded data removed]",
      "text/plain": [
       "<Figure size 800x600 with 1 Axes>"
      ]
     },
     "metadata": {},
     "output_type": "display_data"
    }
   ],
   "source": [
    "plot_feature_importances_housing(gb1)\n"
   ]
  },
  {
   "cell_type": "markdown",
   "id": "0cf4e296",
   "metadata": {},
   "source": [
    "## Support Vector Regressor\n"
   ]
  },
  {
   "cell_type": "code",
   "execution_count": 76,
   "id": "ec2f427d",
   "metadata": {},
   "outputs": [
    {
     "name": "stdout",
     "output_type": "stream",
     "text": [
      "R² of Support Vector Regressor on training set: -0.023\n",
      "R² of Support Vector Regressor on test set: -0.033\n"
     ]
    }
   ],
   "source": [
    "# Using from sklearn.svm import SVR\n",
    "svr = SVR()\n",
    "svr.fit(X_train, y_train)\n",
    "s1 = svr.score(X_train, y_train)\n",
    "s2 = svr.score(X_test, y_test)\n",
    "print(\"R² of Support Vector Regressor on training set: {:.3f}\".format(s1))\n",
    "print(\"R² of Support Vector Regressor on test set: {:.3f}\".format(s2))\n"
   ]
  },
  {
   "cell_type": "code",
   "execution_count": 124,
   "id": "19200b70",
   "metadata": {},
   "outputs": [
    {
     "name": "stdout",
     "output_type": "stream",
     "text": [
      "R² of Support Vector Regressor on training set: 0.659\n",
      "R² of Support Vector Regressor on test set: 0.663\n"
     ]
    }
   ],
   "source": [
    "# Using from sklearn.preprocessing import MinMaxScaler\n",
    "scaler = MinMaxScaler()\n",
    "X_train_scaled = scaler.fit_transform(X_train)\n",
    "X_test_scaled = scaler.fit_transform(X_test)\n",
    "svr1 = SVR()\n",
    "svr1.fit(X_train_scaled, y_train)\n",
    "s3 = svr1.score(X_train_scaled, y_train)\n",
    "s4 = svr1.score(X_test_scaled, y_test)\n",
    "print(\"R² of Support Vector Regressor on training set: {:.3f}\".format(s3))\n",
    "print(\"R² of Support Vector Regressor on test set: {:.3f}\".format(s4))\n"
   ]
  },
  {
   "cell_type": "code",
   "execution_count": 79,
   "id": "ca73d936",
   "metadata": {},
   "outputs": [
    {
     "name": "stdout",
     "output_type": "stream",
     "text": [
      "R² of Support Vector Regressor on training set: 0.702\n",
      "R² of Support Vector Regressor on test set: 0.697\n"
     ]
    }
   ],
   "source": [
    "svr2 = SVR(gamma=10)\n",
    "svr2.fit(X_train_scaled, y_train)\n",
    "s5 = svr2.score(X_train_scaled, y_train)\n",
    "s6 = svr2.score(X_test_scaled, y_test)\n",
    "print(\"R² of Support Vector Regressor on training set: {:.3f}\".format(s5))\n",
    "print(\"R² of Support Vector Regressor on test set: {:.3f}\".format(s6))"
   ]
  },
  {
   "cell_type": "markdown",
   "id": "2a17cc38",
   "metadata": {},
   "source": [
    "## Deep Learning"
   ]
  },
  {
   "cell_type": "code",
   "execution_count": 123,
   "id": "10fbafea",
   "metadata": {},
   "outputs": [
    {
     "name": "stdout",
     "output_type": "stream",
     "text": [
      "R² of MLP Regressor on training set: 0.502\n",
      "R² of MLP Regressor on test set: 0.459\n"
     ]
    }
   ],
   "source": [
    "# Using from sklearn.neural_network import MLPRegressor\n",
    "mlp = MLPRegressor(random_state=42)\n",
    "mlp.fit(X_train, y_train)\n",
    "m1 = mlp.score(X_train, y_train)\n",
    "m2 = mlp.score(X_test, y_test)\n",
    "print(\"R² of MLP Regressor on training set: {:.3f}\".format(m1))\n",
    "print(\"R² of MLP Regressor on test set: {:.3f}\".format(m2))\n"
   ]
  },
  {
   "cell_type": "code",
   "execution_count": 125,
   "id": "763d7d32",
   "metadata": {},
   "outputs": [
    {
     "name": "stdout",
     "output_type": "stream",
     "text": [
      "R² of MLP Regressor on training set: 0.773\n",
      "R² of MLP Regressor on test set: 0.723\n"
     ]
    }
   ],
   "source": [
    "# Using from sklearn.preprocessing import StandardScaler\n",
    "scaler = StandardScaler()\n",
    "X_train_scaled = scaler.fit_transform(X_train)\n",
    "X_test_scaled = scaler.fit_transform(X_test)\n",
    "mlp1 = MLPRegressor(random_state=0)\n",
    "mlp1.fit(X_train_scaled, y_train)\n",
    "m3 = mlp1.score(X_train_scaled, y_train)\n",
    "m4 = mlp1.score(X_test_scaled, y_test)\n",
    "print(\"R² of MLP Regressor on training set: {:.3f}\".format(m3))\n",
    "print(\"R² of MLP Regressor on test set: {:.3f}\".format(m4))"
   ]
  },
  {
   "cell_type": "code",
   "execution_count": 85,
   "id": "20a04596",
   "metadata": {},
   "outputs": [
    {
     "name": "stdout",
     "output_type": "stream",
     "text": [
      "R² of MLP Regressor on training set: 0.773\n",
      "R² of MLP Regressor on test set: 0.723\n"
     ]
    }
   ],
   "source": [
    "mlp2 = MLPRegressor(max_iter=1000, random_state=0)\n",
    "mlp2.fit(X_train_scaled, y_train)\n",
    "m5 = mlp2.score(X_train_scaled, y_train)\n",
    "m6 = mlp2.score(X_test_scaled, y_test)\n",
    "print(\"R² of MLP Regressor on training set: {:.3f}\".format(m5))\n",
    "print(\"R² of MLP Regressor on test set: {:.3f}\".format(m6))"
   ]
  },
  {
   "cell_type": "code",
   "execution_count": 86,
   "id": "33067418",
   "metadata": {
    "scrolled": true
   },
   "outputs": [
    {
     "name": "stdout",
     "output_type": "stream",
     "text": [
      "R² of MLP Regressor on training set: 0.740\n",
      "R² of MLP Regressor on test set: 0.714\n"
     ]
    }
   ],
   "source": [
    "mlp3 = MLPRegressor(max_iter=1000, alpha=1, random_state=0)\n",
    "mlp3.fit(X_train_scaled, y_train)\n",
    "m7 = mlp3.score(X_train_scaled, y_train)\n",
    "m8 = mlp3.score(X_test_scaled, y_test)\n",
    "print(\"R² of MLP Regressor on training set: {:.3f}\".format(m7))\n",
    "print(\"R² of MLP Regressor on test set: {:.3f}\".format(m8))"
   ]
  },
  {
   "cell_type": "markdown",
   "id": "86f97fa5",
   "metadata": {},
   "source": [
    "## Conclusion"
   ]
  },
  {
   "cell_type": "code",
   "execution_count": 97,
   "id": "32d36a62",
   "metadata": {
    "scrolled": true
   },
   "outputs": [
    {
     "data": {
      "text/html": [
       "<div>\n",
       "<style scoped>\n",
       "    .dataframe tbody tr th:only-of-type {\n",
       "        vertical-align: middle;\n",
       "    }\n",
       "\n",
       "    .dataframe tbody tr th {\n",
       "        vertical-align: top;\n",
       "    }\n",
       "\n",
       "    .dataframe thead th {\n",
       "        text-align: right;\n",
       "    }\n",
       "</style>\n",
       "<table border=\"1\" class=\"dataframe\">\n",
       "  <thead>\n",
       "    <tr style=\"text-align: right;\">\n",
       "      <th></th>\n",
       "      <th>Algorithms</th>\n",
       "      <th>Tests Score</th>\n",
       "    </tr>\n",
       "  </thead>\n",
       "  <tbody>\n",
       "    <tr>\n",
       "      <th>4</th>\n",
       "      <td>Gradient Boosting Regressor</td>\n",
       "      <td>0.813916</td>\n",
       "    </tr>\n",
       "    <tr>\n",
       "      <th>3</th>\n",
       "      <td>Random Forest Regressor</td>\n",
       "      <td>0.812697</td>\n",
       "    </tr>\n",
       "    <tr>\n",
       "      <th>6</th>\n",
       "      <td>MLP Regressor</td>\n",
       "      <td>0.713938</td>\n",
       "    </tr>\n",
       "    <tr>\n",
       "      <th>5</th>\n",
       "      <td>Support Vector Regressor</td>\n",
       "      <td>0.696645</td>\n",
       "    </tr>\n",
       "    <tr>\n",
       "      <th>2</th>\n",
       "      <td>Decision Tree Regressor</td>\n",
       "      <td>0.661990</td>\n",
       "    </tr>\n",
       "    <tr>\n",
       "      <th>1</th>\n",
       "      <td>Linear Regression</td>\n",
       "      <td>0.609141</td>\n",
       "    </tr>\n",
       "    <tr>\n",
       "      <th>0</th>\n",
       "      <td>KNN Regressor</td>\n",
       "      <td>0.152372</td>\n",
       "    </tr>\n",
       "  </tbody>\n",
       "</table>\n",
       "</div>"
      ],
      "text/plain": [
       "                    Algorithms  Tests Score\n",
       "4  Gradient Boosting Regressor     0.813916\n",
       "3      Random Forest Regressor     0.812697\n",
       "6                MLP Regressor     0.713938\n",
       "5     Support Vector Regressor     0.696645\n",
       "2      Decision Tree Regressor     0.661990\n",
       "1            Linear Regression     0.609141\n",
       "0                KNN Regressor     0.152372"
      ]
     },
     "execution_count": 97,
     "metadata": {},
     "output_type": "execute_result"
    }
   ],
   "source": [
    "models = ['KNN Regressor', 'Linear Regression', 'Decision Tree Regressor' ,'Random Forest Regressor',\n",
    " 'Gradient Boosting Regressor','Support Vector Regressor', 'MLP Regressor']\n",
    "tests_score = [k2, l2, t4, r2, g4, s6, m8]\n",
    "compare_models = pd.DataFrame({ \"Algorithms\": models, \"Tests Score\": tests_score })\n",
    "compare_models.sort_values(by = \"Tests Score\", ascending = False)"
   ]
  },
  {
   "cell_type": "code",
   "execution_count": 90,
   "id": "b5a71b22",
   "metadata": {
    "scrolled": true
   },
   "outputs": [
    {
     "data": {
      "image/png": "[encoded data removed]",
      "text/plain": [
       "<Figure size 800x800 with 1 Axes>"
      ]
     },
     "metadata": {},
     "output_type": "display_data"
    }
   ],
   "source": [
    "import matplotlib.pyplot as plt\n",
    "%matplotlib inline\n",
    "plt.figure(figsize=(8,8))\n",
    "sb.barplot(x = \"Tests Score\", y = \"Algorithms\", data = compare_models)\n",
    "plt.show()"
   ]
  },
  {
   "cell_type": "code",
   "execution_count": null,
   "id": "7c05a2e1",
   "metadata": {},
   "outputs": [],
   "source": []
  }
 ],
 "metadata": {
  "kernelspec": {
   "display_name": "Python 3 (ipykernel)",
   "language": "python",
   "name": "python3"
  },
  "language_info": {
   "codemirror_mode": {
    "name": "ipython",
    "version": 3
   },
   "file_extension": ".py",
   "mimetype": "text/x-python",
   "name": "python",
   "nbconvert_exporter": "python",
   "pygments_lexer": "ipython3",
   "version": "3.10.9"
  }
 },
 "nbformat": 4,
 "nbformat_minor": 5
}
